{
 "cells": [
  {
   "cell_type": "code",
   "execution_count": 21,
   "metadata": {},
   "outputs": [],
   "source": [
    "import os\n",
    "from glob import glob\n",
    "import re\n",
    "import fiona\n",
    "from shapely.geometry import mapping, shape, LineString, Polygon"
   ]
  },
  {
   "cell_type": "code",
   "execution_count": 16,
   "metadata": {},
   "outputs": [],
   "source": [
    "# Set up the work environment\n",
    "workdir = os.getcwd()\n",
    "indir = os.path.join(workdir, \"Indata\", \"vector\")\n",
    "inLineShp = os.path.join(indir, \"Adams_IL_Is.shp\")\n",
    "assert os.path.exists(inLineShp), \"The specified file does not exist\"\n",
    "outdir = os.path.join(workdir, \"Outdata\", \"Buffer_a_Line\")\n",
    "if not os.path.exists(outdir):\n",
    "    os.makedirs(outdir)"
   ]
  },
  {
   "cell_type": "code",
   "execution_count": 37,
   "metadata": {},
   "outputs": [
    {
     "name": "stdout",
     "output_type": "stream",
     "text": [
      "Units of measurement: us-ft\n"
     ]
    }
   ],
   "source": [
    "# Buffer radius (in the units of the shapefile)\n",
    "bufferRadius = 24.\n",
    "with fiona.open(inLineShp, 'r') as src:\n",
    "    outmeta = src.meta\n",
    "    print(\"Units of measurement: {}\".format(outmeta['crs']['units']))\n",
    "    outmeta['schema']['geometry'] = 'Polygon'\n",
    "    with fiona.open(outdir + os.sep + \"Buffered_Adams_Is.shp\", \"w\", **outmeta) as dest:\n",
    "        for feature in src:\n",
    "            buffered_feature = mapping(shape(feature['geometry']).buffer(bufferRadius))\n",
    "            dest.write({\n",
    "                'properties':feature['properties'], \n",
    "                'geometry':buffered_feature, \n",
    "            })  "
   ]
  },
  {
   "cell_type": "code",
   "execution_count": null,
   "metadata": {},
   "outputs": [],
   "source": []
  }
 ],
 "metadata": {
  "kernelspec": {
   "display_name": "Python 3",
   "language": "python",
   "name": "python3"
  },
  "language_info": {
   "codemirror_mode": {
    "name": "ipython",
    "version": 3
   },
   "file_extension": ".py",
   "mimetype": "text/x-python",
   "name": "python",
   "nbconvert_exporter": "python",
   "pygments_lexer": "ipython3",
   "version": "3.5.4"
  }
 },
 "nbformat": 4,
 "nbformat_minor": 2
}
