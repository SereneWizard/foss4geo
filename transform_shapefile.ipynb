{
 "cells": [
  {
   "cell_type": "markdown",
   "metadata": {},
   "source": [
    "We will use fiona to read the shapefile and pyproj to transform it from one coordinate system to another. "
   ]
  },
  {
   "cell_type": "code",
   "execution_count": 9,
   "metadata": {},
   "outputs": [],
   "source": [
    "import os\n",
    "import glob\n",
    "import fiona\n",
    "from fiona.crs import from_epsg\n",
    "from pprint import pprint\n",
    "from pyproj import Proj, transform"
   ]
  },
  {
   "cell_type": "code",
   "execution_count": 11,
   "metadata": {},
   "outputs": [],
   "source": [
    "workdir = os.getcwd()\n",
    "indir = os.path.join(workdir, 'Outdata', 'Buffer_a_Line')\n",
    "inFileName = 'Buffered_Adams_Is.shp'\n",
    "inFilePath = os.path.join(indir, inFileName)\n",
    "outFileName = 'Projected_Adams_Is.shp'\n",
    "outFilePath = os.path.join(indir, outFileName)"
   ]
  },
  {
   "cell_type": "code",
   "execution_count": 28,
   "metadata": {},
   "outputs": [],
   "source": [
    "with fiona.open(inFilePath, 'r') as src:\n",
    "    incrs = src.crs\n",
    "    inproj = Proj(incrs, preserve_units=True)\n",
    "    outproj = Proj(fiona.crs.from_epsg(26915))\n",
    "    with fiona.open(outFilePath,'w', src.driver, src.schema.copy(), crs=outproj.srs) as dest:\n",
    "        for feature in src:\n",
    "            coordinates = feature['geometry']['coordinates'][0]\n",
    "            new_coordinates = []\n",
    "            for coords in coordinates:\n",
    "                x, y = coords\n",
    "                new_x, new_y = transform(inproj, outproj, x, y)\n",
    "                new_coordinates.append((new_x, new_y))\n",
    "            feature['geometry']['coordinates'][0] = new_coordinates\n",
    "            dest.write(feature)"
   ]
  },
  {
   "cell_type": "code",
   "execution_count": 34,
   "metadata": {},
   "outputs": [
    {
     "name": "stdout",
     "output_type": "stream",
     "text": [
      "'PROJCS[\"NAD_1983_StatePlane_Illinois_West_FIPS_1202_Feet\",GEOGCS[\"GCS_North_American_1983\",DATUM[\"North_American_Datum_1983\",SPHEROID[\"GRS_1980\",6378137.0,298.257222101]],PRIMEM[\"Greenwich\",0.0],UNIT[\"Degree\",0.017453292519943295]],PROJECTION[\"Transverse_Mercator\"],PARAMETER[\"False_Easting\",2296583.333333333],PARAMETER[\"False_Northing\",0.0],PARAMETER[\"Central_Meridian\",-90.16666666666667],PARAMETER[\"Scale_Factor\",0.9999411764705882],PARAMETER[\"Latitude_Of_Origin\",36.66666666666666],UNIT[\"Foot_US\",0.30480060960121924]]'\n"
     ]
    }
   ],
   "source": [
    "with fiona.open(inFilePath, 'r') as src1:\n",
    "    pprint(src1.crs_wkt)"
   ]
  },
  {
   "cell_type": "code",
   "execution_count": 33,
   "metadata": {},
   "outputs": [
    {
     "name": "stdout",
     "output_type": "stream",
     "text": [
      "'PROJCS[\"NAD_1983_UTM_Zone_15N\",GEOGCS[\"GCS_North_American_1983\",DATUM[\"North_American_Datum_1983\",SPHEROID[\"GRS_1980\",6378137,298.257222101]],PRIMEM[\"Greenwich\",0],UNIT[\"Degree\",0.017453292519943295]],PROJECTION[\"Transverse_Mercator\"],PARAMETER[\"latitude_of_origin\",0],PARAMETER[\"central_meridian\",-93],PARAMETER[\"scale_factor\",0.9996],PARAMETER[\"false_easting\",500000],PARAMETER[\"false_northing\",0],UNIT[\"Meter\",1]]'\n"
     ]
    }
   ],
   "source": [
    "with fiona.open(outFilePath, 'r') as src2:\n",
    "    pprint(src2.crs_wkt)"
   ]
  }
 ],
 "metadata": {
  "kernelspec": {
   "display_name": "Python 3",
   "language": "python",
   "name": "python3"
  },
  "language_info": {
   "codemirror_mode": {
    "name": "ipython",
    "version": 3
   },
   "file_extension": ".py",
   "mimetype": "text/x-python",
   "name": "python",
   "nbconvert_exporter": "python",
   "pygments_lexer": "ipython3",
   "version": "3.5.4"
  }
 },
 "nbformat": 4,
 "nbformat_minor": 2
}
