{
 "cells": [
  {
   "cell_type": "markdown",
   "metadata": {},
   "source": [
    "# Using spatial indexing for faster querying of intersection points"
   ]
  },
  {
   "cell_type": "code",
   "execution_count": 18,
   "metadata": {},
   "outputs": [],
   "source": [
    "import re\n",
    "import pickle\n",
    "import numpy as np\n",
    "import pandas as pd\n",
    "import geopandas as gpd\n",
    "from glob import glob\n",
    "from shapely.geometry import Point, Polygon\n",
    "from xml.etree import ElementTree as ET"
   ]
  },
  {
   "cell_type": "markdown",
   "metadata": {},
   "source": [
    "Let us create first a grid of points covering the earth"
   ]
  },
  {
   "cell_type": "code",
   "execution_count": 24,
   "metadata": {},
   "outputs": [],
   "source": [
    "latitudeArray = np.linspace(-90.0, 90.0, 721)\n",
    "longitudeArray = np.linspace(0.0, 360.0, 1441)\n",
    "gridCoordinates = {'x':[], 'y':[]}\n",
    "for i in longitudeArray:\n",
    "    for j in latitudeArray:\n",
    "        gridCoordinates['x'].append(i)\n",
    "        gridCoordinates['y'].append(j)\n",
    "with open('./Dataset/pickles/grid_coordinates.p', 'wb') as dest:\n",
    "    pickle.dump(gridCoordinates, dest)"
   ]
  },
  {
   "cell_type": "markdown",
   "metadata": {},
   "source": [
    "Let's convert the `gridCoordinates` dictionary into pandas dataframe and then into geopandas dataframe"
   ]
  },
  {
   "cell_type": "code",
   "execution_count": 31,
   "metadata": {},
   "outputs": [
    {
     "data": {
      "text/html": [
       "<div>\n",
       "<style scoped>\n",
       "    .dataframe tbody tr th:only-of-type {\n",
       "        vertical-align: middle;\n",
       "    }\n",
       "\n",
       "    .dataframe tbody tr th {\n",
       "        vertical-align: top;\n",
       "    }\n",
       "\n",
       "    .dataframe thead th {\n",
       "        text-align: right;\n",
       "    }\n",
       "</style>\n",
       "<table border=\"1\" class=\"dataframe\">\n",
       "  <thead>\n",
       "    <tr style=\"text-align: right;\">\n",
       "      <th></th>\n",
       "      <th>x</th>\n",
       "      <th>y</th>\n",
       "      <th>geometry</th>\n",
       "    </tr>\n",
       "  </thead>\n",
       "  <tbody>\n",
       "    <tr>\n",
       "      <th>0</th>\n",
       "      <td>0.0</td>\n",
       "      <td>-90.00</td>\n",
       "      <td>POINT (0 -90)</td>\n",
       "    </tr>\n",
       "    <tr>\n",
       "      <th>1</th>\n",
       "      <td>0.0</td>\n",
       "      <td>-89.75</td>\n",
       "      <td>POINT (0 -89.75)</td>\n",
       "    </tr>\n",
       "    <tr>\n",
       "      <th>2</th>\n",
       "      <td>0.0</td>\n",
       "      <td>-89.50</td>\n",
       "      <td>POINT (0 -89.5)</td>\n",
       "    </tr>\n",
       "    <tr>\n",
       "      <th>3</th>\n",
       "      <td>0.0</td>\n",
       "      <td>-89.25</td>\n",
       "      <td>POINT (0 -89.25)</td>\n",
       "    </tr>\n",
       "    <tr>\n",
       "      <th>4</th>\n",
       "      <td>0.0</td>\n",
       "      <td>-89.00</td>\n",
       "      <td>POINT (0 -89)</td>\n",
       "    </tr>\n",
       "  </tbody>\n",
       "</table>\n",
       "</div>"
      ],
      "text/plain": [
       "     x      y          geometry\n",
       "0  0.0 -90.00     POINT (0 -90)\n",
       "1  0.0 -89.75  POINT (0 -89.75)\n",
       "2  0.0 -89.50   POINT (0 -89.5)\n",
       "3  0.0 -89.25  POINT (0 -89.25)\n",
       "4  0.0 -89.00     POINT (0 -89)"
      ]
     },
     "execution_count": 31,
     "metadata": {},
     "output_type": "execute_result"
    }
   ],
   "source": [
    "df = pd.DataFrame.from_dict(gridCoordinates, orient='columns')\n",
    "df['geometry'] = df.apply(lambda dframe: Point(dframe['x'], dframe['y']), axis=1)\n",
    "crs = {'init': 'epsg:4326'}\n",
    "gdf = gpd.GeoDataFrame(df, crs=crs, geometry=df['geometry'])\n",
    "gdf.head()"
   ]
  },
  {
   "cell_type": "markdown",
   "metadata": {},
   "source": [
    "Let's calculate the spatial index for the geodataframe"
   ]
  },
  {
   "cell_type": "code",
   "execution_count": 39,
   "metadata": {},
   "outputs": [],
   "source": [
    "gridSpatialIndex = gdf.sindex\n",
    "with open('./Dataset/pickles/grid_spatial_index.p', 'wb') as dest:\n",
    "    pickle.dump(gridSpatialIndex, dest)"
   ]
  },
  {
   "cell_type": "markdown",
   "metadata": {},
   "source": [
    "Now let's read in the kml file that will be used as a mask"
   ]
  },
  {
   "cell_type": "code",
   "execution_count": 40,
   "metadata": {},
   "outputs": [
    {
     "name": "stdout",
     "output_type": "stream",
     "text": [
      "(270.8512061, 40.0488429, 271.4252483, 40.2831503)\n"
     ]
    }
   ],
   "source": [
    "kmlFpath = glob('./Dataset/kml/*.kml')[0]\n",
    "tree = ET.parse(kmlFpath)\n",
    "root = tree.getroot().tag\n",
    "kmlns = re.split('[{}]', root)[1]\n",
    "elements = tree.findall(\".//{%s}coordinates\" % kmlns)\n",
    "for el in elements:\n",
    "    shapeCoordinates = []\n",
    "    for coords in el.text.split(' '):\n",
    "        x, y = coords.split(',')\n",
    "        x, y = float(x), float(y)\n",
    "        x = (360+x) if x<0 else x\n",
    "        shapeCoordinates.append((x,y))\n",
    "maskPolygon = Polygon(shapeCoordinates)\n",
    "print(maskPolygon.bounds)"
   ]
  },
  {
   "cell_type": "markdown",
   "metadata": {},
   "source": [
    "Here, we carry out the querrying process in two passes. \n",
    "In the first pass, we carryout an approximate querying to filter those grid points that lie within the bounds of the polygon. In the second pass, we take these filtered points and then carry out accurate querying on them to see if they lie inside the polygon or not. PostGIS carries out similar process. This part of the code has been inspired from [here](https://geoffboeing.com/2016/10/r-tree-spatial-index-python/)."
   ]
  },
  {
   "cell_type": "code",
   "execution_count": 46,
   "metadata": {},
   "outputs": [
    {
     "name": "stdout",
     "output_type": "stream",
     "text": [
      "             x      y              geometry\n",
      "782085  271.00  40.25     POINT (271 40.25)\n",
      "782806  271.25  40.25  POINT (271.25 40.25)\n"
     ]
    }
   ],
   "source": [
    "possible_matches_index = list(gridSpatialIndex.intersection(maskPolygon.bounds))\n",
    "possible_matches = gdf.iloc[possible_matches_index]\n",
    "precise_matches = possible_matches[possible_matches.intersects(maskPolygon)]\n",
    "print(precise_matches)"
   ]
  },
  {
   "cell_type": "markdown",
   "metadata": {},
   "source": [
    "Ain't this beautiful? \n",
    "If you want to learn more about spatial indexing, click [here](https://blog.mapbox.com/a-dive-into-spatial-search-algorithms-ebd0c5e39d2a). "
   ]
  },
  {
   "cell_type": "code",
   "execution_count": null,
   "metadata": {},
   "outputs": [],
   "source": []
  }
 ],
 "metadata": {
  "kernelspec": {
   "display_name": "Python 3",
   "language": "python",
   "name": "python3"
  },
  "language_info": {
   "codemirror_mode": {
    "name": "ipython",
    "version": 3
   },
   "file_extension": ".py",
   "mimetype": "text/x-python",
   "name": "python",
   "nbconvert_exporter": "python",
   "pygments_lexer": "ipython3",
   "version": "3.5.4"
  }
 },
 "nbformat": 4,
 "nbformat_minor": 2
}
