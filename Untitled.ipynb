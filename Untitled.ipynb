{
 "cells": [
  {
   "cell_type": "code",
   "execution_count": 1,
   "metadata": {},
   "outputs": [],
   "source": [
    "import re\n",
    "import numpy as np\n",
    "from glob import glob\n",
    "from xml.etree import ElementTree as ET"
   ]
  },
  {
   "cell_type": "code",
   "execution_count": 3,
   "metadata": {},
   "outputs": [
    {
     "name": "stdout",
     "output_type": "stream",
     "text": [
      "./Dataset/kml\\Dewitt.kml\n"
     ]
    }
   ],
   "source": [
    "kmlFpath = glob('./Dataset/kml/*.kml')[0]\n",
    "print(kmlFpath)"
   ]
  },
  {
   "cell_type": "markdown",
   "metadata": {},
   "source": [
    "First we need to parse the kml file, and then get its kml namespace from the root. Unlike in html, in xml, every tag will have to be prefixed by this namespace to access it. "
   ]
  },
  {
   "cell_type": "code",
   "execution_count": 5,
   "metadata": {},
   "outputs": [
    {
     "name": "stdout",
     "output_type": "stream",
     "text": [
      "{http://www.opengis.net/kml/2.2}kml\n",
      "http://www.opengis.net/kml/2.2\n"
     ]
    }
   ],
   "source": [
    "tree = ET.parse(kmlFpath)\n",
    "root = tree.getroot().tag\n",
    "print(root)\n",
    "kmlns = re.split('[{}]', root)[1]\n",
    "print(kmlns)"
   ]
  },
  {
   "cell_type": "markdown",
   "metadata": {},
   "source": [
    "We now get all the elements with tag `coordinates` to extract the coordinates from the kml. If the number of elements is greater than one, it returns a warning message. "
   ]
  },
  {
   "cell_type": "code",
   "execution_count": 12,
   "metadata": {},
   "outputs": [],
   "source": [
    "elements = tree.findall(\".//{%s}coordinates\" % kmlns)\n",
    "if len(elements)>1:\n",
    "    print(\"This file has more than one features\")"
   ]
  },
  {
   "cell_type": "markdown",
   "metadata": {},
   "source": [
    "We traverse through each element to get the total bounds of the kml file"
   ]
  },
  {
   "cell_type": "code",
   "execution_count": 13,
   "metadata": {},
   "outputs": [],
   "source": [
    "llx, lly, urx, ury = 360., 90., -360., -90.\n",
    "for el in elements:\n",
    "    for coords in el.text.split(' '):\n",
    "        x, y = coords.split(',')\n",
    "        x, y = float(x), float(y)\n",
    "        x = (360+x) if x<0 else x\n",
    "        llx = min(llx, x)\n",
    "        lly = min(lly, y)\n",
    "        urx = max(urx, x)\n",
    "        ury = max(ury, y)"
   ]
  },
  {
   "cell_type": "code",
   "execution_count": 14,
   "metadata": {},
   "outputs": [
    {
     "name": "stdout",
     "output_type": "stream",
     "text": [
      "270.8512061 40.0488429 271.4252483 40.2831503\n"
     ]
    }
   ],
   "source": [
    "print(llx, lly, urx, ury)"
   ]
  },
  {
   "cell_type": "code",
   "execution_count": null,
   "metadata": {},
   "outputs": [],
   "source": []
  }
 ],
 "metadata": {
  "kernelspec": {
   "display_name": "Python 3",
   "language": "python",
   "name": "python3"
  },
  "language_info": {
   "codemirror_mode": {
    "name": "ipython",
    "version": 3
   },
   "file_extension": ".py",
   "mimetype": "text/x-python",
   "name": "python",
   "nbconvert_exporter": "python",
   "pygments_lexer": "ipython3",
   "version": "3.5.4"
  }
 },
 "nbformat": 4,
 "nbformat_minor": 2
}
