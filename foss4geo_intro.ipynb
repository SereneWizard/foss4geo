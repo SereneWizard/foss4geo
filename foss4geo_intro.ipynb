{
 "cells": [
  {
   "cell_type": "markdown",
   "metadata": {},
   "source": [
    "# An Introduction to FOSS4G for Geospatial Analysis\n",
    "<img src=\"./Dataset/logo-osgeo.svg\">                                                            "
   ]
  },
  {
   "cell_type": "markdown",
   "metadata": {},
   "source": [
    "## Introduction\n",
    "ArcGIS has been a staple in mapping and geospatial analysis world. It is a state-of-the-art geospatial software that provides numerous functionalities in a very user-friendly environment. But benifitting from these advantages of ArcGIS comes at a cost, and not all of it is monetary: \n",
    "- ArcGIS is a huge software. A single installation of recent versions of ArcGIS is of more than 5GB and we don't even use many features it provides \n",
    "- ArcGIS is a resource-consuming software\n",
    "- ArcGIS is not suitable for processing of data that is very large\n",
    "- For certain kind of tasks, ArcGIS is restrictive and does not provide enough options. \n",
    "\n",
    "But we have much more options than just ArcGIS to overcome these disadvantages inherent in ArcGIS. In recent years, **QuantumGIS (QGIS)** has been come forth as a good open source alternative to ArcGIS. It provides both feature-rich mapping options and strong low-level geospatial analysis capabilities. It provides a good integration with Python. Moreover, it has a very active developer community and a very huge user base. \n",
    "\n",
    "But in this notebook, we will not be discussing about QGIS. Instead, we will introudce some free and open source tools for executing geospatial operations using GDAL/OGR and Python. Python is replete with many libraries that provide different geospatial functionalities. An extensive list of Python geospatial libraries can be found [here](https://github.com/SpatialPython/spatial_python/blob/master/packages.md). Here we will just be scratching the surface of this really rich world. \n",
    "\n",
    "The data used in this notebook is stored in this same repository inside the folder `./Dataset`"
   ]
  },
  {
   "cell_type": "code",
   "execution_count": 3,
   "metadata": {
    "collapsed": true
   },
   "outputs": [],
   "source": [
    "# Set up our workspace\n",
    "% matplotlib inline\n",
    "import os\n",
    "from pprint import pprint\n",
    "from matplotlib import pyplot as plt\n",
    "\n",
    "basedir = os.getcwd()"
   ]
  },
  {
   "cell_type": "markdown",
   "metadata": {},
   "source": [
    "## GDAL/OGR \n",
    "GDAL stands for [Geospatial Data Abstraction Library](http://www.gdal.org/), and is developed by Open Source Geospatial Foundation. It has the capacity to read various vector and raster data formats. It consists of various libraries, written in C++ and distributed as free software. GDAL/OGR commands are basically run in the command line as bash commands. But as we will see in this course, various softwares and programming languages provide APIs to carry out geospatial analysis using GDAL/OGR.  QGIS and GRASS GIS are also integrated with GDAL and thus provide a GUI based experience to work with GDAL/OGR."
   ]
  },
  {
   "cell_type": "markdown",
   "metadata": {},
   "source": [
    "### Using GDAL to veiw  Raster metadata\n",
    "GDAL facilitates working with raster data, and provides many commands/functions to manipulate raster files. It supports many raster file formats. Details of the function *gdalinfo* can be found in http://www.gdal.org/gdalinfo.html. "
   ]
  },
  {
   "cell_type": "code",
   "execution_count": 1,
   "metadata": {},
   "outputs": [
    {
     "name": "stdout",
     "output_type": "stream",
     "text": [
      "/home/serenewizard/Repos/foss4geo\n",
      "Driver: GTiff/GeoTIFF\n",
      "Files: ./Dataset/raster/Land_Use.tif\n",
      "       ./Dataset/raster/Land_Use.tif.ovr\n",
      "       ./Dataset/raster/Land_Use.tif.aux.xml\n",
      "Size is 3034, 3386\n",
      "Coordinate System is:\n",
      "PROJCS[\"Albers_Conical_Equal_Area\",\n",
      "    GEOGCS[\"NAD83\",\n",
      "        DATUM[\"North_American_Datum_1983\",\n",
      "            SPHEROID[\"GRS 1980\",6378137,298.2572221010042,\n",
      "                AUTHORITY[\"EPSG\",\"7019\"]],\n",
      "            AUTHORITY[\"EPSG\",\"6269\"]],\n",
      "        PRIMEM[\"Greenwich\",0],\n",
      "        UNIT[\"degree\",0.0174532925199433],\n",
      "        AUTHORITY[\"EPSG\",\"4269\"]],\n",
      "    PROJECTION[\"Albers_Conic_Equal_Area\"],\n",
      "    PARAMETER[\"standard_parallel_1\",29.5],\n",
      "    PARAMETER[\"standard_parallel_2\",45.5],\n",
      "    PARAMETER[\"latitude_of_center\",23],\n",
      "    PARAMETER[\"longitude_of_center\",-96],\n",
      "    PARAMETER[\"false_easting\",0],\n",
      "    PARAMETER[\"false_northing\",0],\n",
      "    UNIT[\"metre\",1,\n",
      "        AUTHORITY[\"EPSG\",\"9001\"]]]\n",
      "Origin = (554625.000000000000000,2005545.000000000000000)\n",
      "Pixel Size = (30.000000000000000,-30.000000000000000)\n",
      "Metadata:\n",
      "  AREA_OR_POINT=Area\n",
      "  DataType=Thematic\n",
      "Image Structure Metadata:\n",
      "  COMPRESSION=LZW\n",
      "  INTERLEAVE=BAND\n",
      "Corner Coordinates:\n",
      "Upper Left  (  554625.000, 2005545.000) ( 89d21'31.17\"W, 40d53' 7.41\"N)\n",
      "Lower Left  (  554625.000, 1903965.000) ( 89d26'32.84\"W, 39d58'50.75\"N)\n",
      "Upper Right (  645645.000, 2005545.000) ( 88d16'23.53\"W, 40d49'26.43\"N)\n",
      "Lower Right (  645645.000, 1903965.000) ( 88d22'14.11\"W, 39d55'12.67\"N)\n",
      "Center      (  600135.000, 1954755.000) ( 88d51'40.62\"W, 40d24'13.25\"N)\n",
      "Band 1 Block=128x128 Type=Byte, ColorInterp=Palette\n",
      "  Min=11.000 Max=95.000 \n",
      "  Minimum=11.000, Maximum=95.000, Mean=74.887, StdDev=18.776\n",
      "  NoData Value=255\n",
      "  Overviews: 1517x1693, 759x847, 380x424, 190x212\n",
      "  Metadata:\n",
      "    RepresentationType=THEMATIC\n",
      "    STATISTICS_COVARIANCES=352.546085215254\n",
      "    STATISTICS_MAXIMUM=95\n",
      "    STATISTICS_MEAN=74.886631953435\n",
      "    STATISTICS_MINIMUM=11\n",
      "    STATISTICS_SKIPFACTORX=1\n",
      "    STATISTICS_SKIPFACTORY=1\n",
      "    STATISTICS_STDDEV=18.776210619165\n",
      "  Color Table (RGB with 256 entries)\n"
     ]
    }
   ],
   "source": [
    "%%bash\n",
    "pwd\n",
    "gdalinfo -norat -noct ./Dataset/raster/*.tif"
   ]
  },
  {
   "cell_type": "markdown",
   "metadata": {},
   "source": [
    "### Using OGR to view Vector Metadata\n",
    "OGR provides an interface to work with vector data, and supports many vector data formats , including the most popular one - **ESRI Shapefile**. Details of the function *ogrinfo* can be found in http://www.gdal.org/ogrinfo.html. "
   ]
  },
  {
   "cell_type": "code",
   "execution_count": 2,
   "metadata": {},
   "outputs": [
    {
     "name": "stdout",
     "output_type": "stream",
     "text": [
      "/home/serenewizard/Repos/foss4geo\n",
      "INFO: Open of `./Dataset/vector/Dewitt_Mclean.shp'\n",
      "      using driver `ESRI Shapefile' successful.\n",
      "\n",
      "Layer name: Dewitt_Mclean\n",
      "Metadata:\n",
      "  DBF_DATE_LAST_UPDATE=2017-10-04\n",
      "Geometry: Polygon\n",
      "Feature Count: 2\n",
      "Extent: (-89.269325, 40.048843) - (-88.459058, 40.757393)\n",
      "Layer SRS WKT:\n",
      "GEOGCS[\"GCS_North_American_1983\",\n",
      "    DATUM[\"North_American_Datum_1983\",\n",
      "        SPHEROID[\"GRS_1980\",6378137.0,298.257222101]],\n",
      "    PRIMEM[\"Greenwich\",0.0],\n",
      "    UNIT[\"Degree\",0.0174532925199433],\n",
      "    AUTHORITY[\"EPSG\",\"4269\"]]\n",
      "COUNTY_NAM: String (16.0)\n",
      "CO_FIPS: Integer (4.0)\n"
     ]
    }
   ],
   "source": [
    "%%bash\n",
    "pwd\n",
    "ogrinfo -al -so ./Dataset/vector/*.shp"
   ]
  },
  {
   "cell_type": "markdown",
   "metadata": {},
   "source": [
    "## <font color=green> Geopandas </font> library in Python\n",
    "**Geopandas** is used to create, read, write and manipulate the vector data. This library is an extension of pandas (a data analysis) library, where the spatial information is stored in the <font color=blue> **geometry** </font> column. Each feature of the shapefile is represented by the dataframe row. "
   ]
  },
  {
   "cell_type": "code",
   "execution_count": 6,
   "metadata": {
    "collapsed": true
   },
   "outputs": [],
   "source": [
    "import geopandas as gpd\n",
    "\n",
    "vectorpath = os.path.join(basedir, \"Dataset\", \"vector\", \"Dewitt_Mclean.shp\")\n",
    "src = gpd.read_file(vectorpath)"
   ]
  },
  {
   "cell_type": "code",
   "execution_count": 7,
   "metadata": {},
   "outputs": [
    {
     "data": {
      "text/html": [
       "<div>\n",
       "<style>\n",
       "    .dataframe thead tr:only-child th {\n",
       "        text-align: right;\n",
       "    }\n",
       "\n",
       "    .dataframe thead th {\n",
       "        text-align: left;\n",
       "    }\n",
       "\n",
       "    .dataframe tbody tr th {\n",
       "        vertical-align: top;\n",
       "    }\n",
       "</style>\n",
       "<table border=\"1\" class=\"dataframe\">\n",
       "  <thead>\n",
       "    <tr style=\"text-align: right;\">\n",
       "      <th></th>\n",
       "      <th>COUNTY_NAM</th>\n",
       "      <th>CO_FIPS</th>\n",
       "      <th>geometry</th>\n",
       "    </tr>\n",
       "  </thead>\n",
       "  <tbody>\n",
       "    <tr>\n",
       "      <th>0</th>\n",
       "      <td>MCLEAN</td>\n",
       "      <td>113</td>\n",
       "      <td>POLYGON ((-88.92942840000001 40.7532964, -88.9...</td>\n",
       "    </tr>\n",
       "    <tr>\n",
       "      <th>1</th>\n",
       "      <td>DEWITT</td>\n",
       "      <td>39</td>\n",
       "      <td>POLYGON ((-89.1487939 40.2820954, -89.13023680...</td>\n",
       "    </tr>\n",
       "  </tbody>\n",
       "</table>\n",
       "</div>"
      ],
      "text/plain": [
       "  COUNTY_NAM  CO_FIPS                                           geometry\n",
       "0     MCLEAN      113  POLYGON ((-88.92942840000001 40.7532964, -88.9...\n",
       "1     DEWITT       39  POLYGON ((-89.1487939 40.2820954, -89.13023680..."
      ]
     },
     "execution_count": 7,
     "metadata": {},
     "output_type": "execute_result"
    }
   ],
   "source": [
    "# Get the Shapefile VAT table as geopandas dataframe\n",
    "src"
   ]
  },
  {
   "cell_type": "code",
   "execution_count": 8,
   "metadata": {},
   "outputs": [
    {
     "data": {
      "text/plain": [
       "{'init': 'epsg:4269'}"
      ]
     },
     "execution_count": 8,
     "metadata": {},
     "output_type": "execute_result"
    }
   ],
   "source": [
    "# Get the coordinate reference system of the dataframe\n",
    "src.crs"
   ]
  },
  {
   "cell_type": "code",
   "execution_count": 9,
   "metadata": {},
   "outputs": [
    {
     "data": {
      "image/png": "[encoded data removed]",
      "text/plain": [
       "<matplotlib.figure.Figure at 0x7fecb794db70>"
      ]
     },
     "metadata": {},
     "output_type": "display_data"
    }
   ],
   "source": [
    "# Plot the features of the shapefile\n",
    "plots = src.plot(figsize=(10,10))"
   ]
  },
  {
   "cell_type": "markdown",
   "metadata": {},
   "source": [
    "You can also use the native matplotlib features to transform this plot into an informative maps. "
   ]
  },
  {
   "cell_type": "markdown",
   "metadata": {},
   "source": [
    "## <font color= green> Fiona </font> library in Python\n",
    "**Fiona** is another library that is used to create, read, write and manipulate the vector data. Fiona provides an API to the the underlying OGR library."
   ]
  },
  {
   "cell_type": "code",
   "execution_count": 10,
   "metadata": {
    "collapsed": true
   },
   "outputs": [],
   "source": [
    "import fiona\n",
    "\n",
    "vectorpath = os.path.join(basedir, \"Dataset\", \"vector\", \"Dewitt_Mclean.shp\")\n",
    "vect_src = fiona.open(vectorpath)"
   ]
  },
  {
   "cell_type": "code",
   "execution_count": 11,
   "metadata": {},
   "outputs": [
    {
     "data": {
      "text/plain": [
       "{'crs': {'init': 'epsg:4269'},\n",
       " 'crs_wkt': 'GEOGCS[\"GCS_North_American_1983\",DATUM[\"North_American_Datum_1983\",SPHEROID[\"GRS_1980\",6378137.0,298.257222101]],PRIMEM[\"Greenwich\",0.0],UNIT[\"Degree\",0.0174532925199433],AUTHORITY[\"EPSG\",\"4269\"]]',\n",
       " 'driver': 'ESRI Shapefile',\n",
       " 'schema': {'geometry': 'Polygon',\n",
       "  'properties': OrderedDict([('COUNTY_NAM', 'str:16'), ('CO_FIPS', 'int:4')])}}"
      ]
     },
     "execution_count": 11,
     "metadata": {},
     "output_type": "execute_result"
    }
   ],
   "source": [
    "# Metadata of the shapefile\n",
    "vect_src.meta"
   ]
  },
  {
   "cell_type": "code",
   "execution_count": 12,
   "metadata": {},
   "outputs": [
    {
     "data": {
      "text/plain": [
       "'ESRI Shapefile'"
      ]
     },
     "execution_count": 12,
     "metadata": {},
     "output_type": "execute_result"
    }
   ],
   "source": [
    "# Driver of the shapefile\n",
    "vect_src.driver"
   ]
  },
  {
   "cell_type": "code",
   "execution_count": 13,
   "metadata": {},
   "outputs": [
    {
     "name": "stdout",
     "output_type": "stream",
     "text": [
      "{'geometry': 'Polygon',\n",
      " 'properties': OrderedDict([('COUNTY_NAM', 'str:16'), ('CO_FIPS', 'int:4')])}\n"
     ]
    }
   ],
   "source": [
    "#Schema of the shapefile\n",
    "pprint(vect_src.schema)"
   ]
  },
  {
   "cell_type": "code",
   "execution_count": 14,
   "metadata": {},
   "outputs": [
    {
     "data": {
      "text/plain": [
       "{'init': 'epsg:4269'}"
      ]
     },
     "execution_count": 14,
     "metadata": {},
     "output_type": "execute_result"
    }
   ],
   "source": [
    "#CRS of the shapefile\n",
    "vect_src.crs"
   ]
  },
  {
   "cell_type": "code",
   "execution_count": 15,
   "metadata": {},
   "outputs": [
    {
     "data": {
      "text/plain": [
       "2"
      ]
     },
     "execution_count": 15,
     "metadata": {},
     "output_type": "execute_result"
    }
   ],
   "source": [
    "# Number of features in the shapefile\n",
    "len(list(vect_src))"
   ]
  },
  {
   "cell_type": "code",
   "execution_count": 16,
   "metadata": {},
   "outputs": [
    {
     "data": {
      "text/plain": [
       "(-89.2693252, 40.0488429, -88.459058, 40.7573927)"
      ]
     },
     "execution_count": 16,
     "metadata": {},
     "output_type": "execute_result"
    }
   ],
   "source": [
    "# The extent of the shapefile\n",
    "vect_src.bounds"
   ]
  },
  {
   "cell_type": "code",
   "execution_count": 17,
   "metadata": {},
   "outputs": [
    {
     "name": "stdout",
     "output_type": "stream",
     "text": [
      "OrderedDict([('COUNTY_NAM', 'MCLEAN'), ('CO_FIPS', 113)])\n",
      "OrderedDict([('COUNTY_NAM', 'DEWITT'), ('CO_FIPS', 39)])\n"
     ]
    }
   ],
   "source": [
    "# Get the first feature of the shapefile\n",
    "for feature in vect_src:\n",
    "    print(feature['properties'])"
   ]
  },
  {
   "cell_type": "code",
   "execution_count": 18,
   "metadata": {
    "collapsed": true
   },
   "outputs": [],
   "source": [
    "# Get the geometry of the first feature \n",
    "#(commented out becuase it gives a long list of geometries)\n",
    "#pprint(feature['geometry'])"
   ]
  },
  {
   "cell_type": "markdown",
   "metadata": {},
   "source": [
    "Note: You need to close the file after you are done with it. "
   ]
  },
  {
   "cell_type": "code",
   "execution_count": 19,
   "metadata": {
    "collapsed": true
   },
   "outputs": [],
   "source": [
    "vect_src.close()"
   ]
  },
  {
   "cell_type": "markdown",
   "metadata": {},
   "source": [
    "## <font color= green> Rasterio </font> library in Python\n",
    "Rasterio provides a user-friendly API to the underlying GDAL library for raster data manipulation. "
   ]
  },
  {
   "cell_type": "code",
   "execution_count": 20,
   "metadata": {
    "collapsed": true
   },
   "outputs": [],
   "source": [
    "import rasterio\n",
    "\n",
    "rasterpath = os.path.join(basedir, \"Dataset\", \"raster\", \"Land_Use.tif\")\n",
    "rast_src = rasterio.open(rasterpath)"
   ]
  },
  {
   "cell_type": "code",
   "execution_count": 21,
   "metadata": {},
   "outputs": [
    {
     "data": {
      "text/plain": [
       "{'affine': Affine(30.0, 0.0, 554625.0,\n",
       "       0.0, -30.0, 2005545.0),\n",
       " 'count': 1,\n",
       " 'crs': CRS({'lat_2': 45.5, 'proj': 'aea', 'y_0': 0, 'lon_0': -96, 'lat_0': 23, 'datum': 'NAD83', 'no_defs': True, 'x_0': 0, 'units': 'm', 'lat_1': 29.5}),\n",
       " 'driver': 'GTiff',\n",
       " 'dtype': 'uint8',\n",
       " 'height': 3386,\n",
       " 'nodata': 255.0,\n",
       " 'transform': (554625.0, 30.0, 0.0, 2005545.0, 0.0, -30.0),\n",
       " 'width': 3034}"
      ]
     },
     "execution_count": 21,
     "metadata": {},
     "output_type": "execute_result"
    }
   ],
   "source": [
    "# Metadata of the raster file\n",
    "rast_src.meta"
   ]
  },
  {
   "cell_type": "code",
   "execution_count": 22,
   "metadata": {},
   "outputs": [
    {
     "data": {
      "text/plain": [
       "'GTiff'"
      ]
     },
     "execution_count": 22,
     "metadata": {},
     "output_type": "execute_result"
    }
   ],
   "source": [
    "# Driver of the raster\n",
    "rast_src.driver"
   ]
  },
  {
   "cell_type": "code",
   "execution_count": 23,
   "metadata": {},
   "outputs": [
    {
     "data": {
      "text/plain": [
       "CRS({'lat_2': 45.5, 'proj': 'aea', 'y_0': 0, 'lon_0': -96, 'lat_0': 23, 'datum': 'NAD83', 'no_defs': True, 'x_0': 0, 'units': 'm', 'lat_1': 29.5})"
      ]
     },
     "execution_count": 23,
     "metadata": {},
     "output_type": "execute_result"
    }
   ],
   "source": [
    "# CRS of the raster\n",
    "rast_src.get_crs()"
   ]
  },
  {
   "cell_type": "code",
   "execution_count": 24,
   "metadata": {},
   "outputs": [
    {
     "name": "stdout",
     "output_type": "stream",
     "text": [
      "Affine(30.0, 0.0, 554625.0,\n",
      "       0.0, -30.0, 2005545.0)\n"
     ]
    }
   ],
   "source": [
    "# Affine of the raster\n",
    "pprint(rast_src.affine)"
   ]
  },
  {
   "cell_type": "code",
   "execution_count": 25,
   "metadata": {},
   "outputs": [
    {
     "data": {
      "text/plain": [
       "1"
      ]
     },
     "execution_count": 25,
     "metadata": {},
     "output_type": "execute_result"
    }
   ],
   "source": [
    "# Number of bands in the raster\n",
    "rast_src.count"
   ]
  },
  {
   "cell_type": "code",
   "execution_count": 26,
   "metadata": {},
   "outputs": [
    {
     "name": "stdout",
     "output_type": "stream",
     "text": [
      "BoundingBox(left=554625.0, bottom=1903965.0, right=645645.0, top=2005545.0)\n"
     ]
    }
   ],
   "source": [
    "# The extent of the raster\n",
    "pprint(rast_src.bounds)"
   ]
  },
  {
   "cell_type": "code",
   "execution_count": 27,
   "metadata": {},
   "outputs": [
    {
     "data": {
      "text/plain": [
       "(3386, 3034)"
      ]
     },
     "execution_count": 27,
     "metadata": {},
     "output_type": "execute_result"
    }
   ],
   "source": [
    "# Shape of the raster\n",
    "rast_src.shape"
   ]
  },
  {
   "cell_type": "code",
   "execution_count": 28,
   "metadata": {},
   "outputs": [
    {
     "data": {
      "text/plain": [
       "(255.0,)"
      ]
     },
     "execution_count": 28,
     "metadata": {},
     "output_type": "execute_result"
    }
   ],
   "source": [
    "# Value representing no data in raster\n",
    "rast_src.nodatavals"
   ]
  },
  {
   "cell_type": "code",
   "execution_count": 29,
   "metadata": {},
   "outputs": [
    {
     "data": {
      "text/plain": [
       "(30.0, 30.0)"
      ]
     },
     "execution_count": 29,
     "metadata": {},
     "output_type": "execute_result"
    }
   ],
   "source": [
    "# Resolution of the raster\n",
    "rast_src.res"
   ]
  },
  {
   "cell_type": "code",
   "execution_count": 30,
   "metadata": {},
   "outputs": [
    {
     "data": {
      "text/plain": [
       "array([[41, 41, 41, ..., 82, 82, 82],\n",
       "       [41, 41, 41, ..., 82, 82, 82],\n",
       "       [41, 41, 41, ..., 82, 82, 82],\n",
       "       ..., \n",
       "       [22, 82, 82, ..., 82, 82, 82],\n",
       "       [22, 82, 82, ..., 82, 82, 82],\n",
       "       [22, 82, 82, ..., 82, 82, 82]], dtype=uint8)"
      ]
     },
     "execution_count": 30,
     "metadata": {},
     "output_type": "execute_result"
    }
   ],
   "source": [
    "# Read the data from the first band\n",
    "band = rast_src.read(1)\n",
    "band.view()"
   ]
  },
  {
   "cell_type": "code",
   "execution_count": 31,
   "metadata": {},
   "outputs": [
    {
     "data": {
      "image/png": "[encoded data removed]",
      "text/plain": [
       "<matplotlib.figure.Figure at 0x7fecc804c3c8>"
      ]
     },
     "metadata": {},
     "output_type": "display_data"
    },
    {
     "data": {
      "text/plain": [
       "<matplotlib.axes._subplots.AxesSubplot at 0x7fecb003ac88>"
      ]
     },
     "execution_count": 31,
     "metadata": {},
     "output_type": "execute_result"
    }
   ],
   "source": [
    "# Visualize the raster band\n",
    "from rasterio.plot import show\n",
    "show(rast_src, title=\"Raster\", cmap='viridis')"
   ]
  },
  {
   "cell_type": "markdown",
   "metadata": {},
   "source": [
    "Make sure you close the raster file at the end of the operation"
   ]
  },
  {
   "cell_type": "code",
   "execution_count": 32,
   "metadata": {
    "collapsed": true
   },
   "outputs": [],
   "source": [
    "rast_src.close()"
   ]
  },
  {
   "cell_type": "markdown",
   "metadata": {},
   "source": [
    "## Some fun stuffs with programming for GIS\n",
    "### Save each feature as individual file"
   ]
  },
  {
   "cell_type": "code",
   "execution_count": 34,
   "metadata": {
    "collapsed": true
   },
   "outputs": [],
   "source": [
    "import os\n",
    "import shutil\n",
    "import fiona\n",
    "\n",
    "# Pointing to the larger input shapefile\n",
    "inpath = os.path.join(basedir, \"Dataset\", \"vector\", \"Dewitt_Mclean.shp\")\n",
    "\n",
    "# Setting up where our output features as shapefiles will be stored\n",
    "outdir = os.path.join(basedir, \"Dataset\", \"individual_features\")\n",
    "if os.path.exists(outdir):\n",
    "    shutil.rmtree(outdir)\n",
    "os.makedirs(outdir)\n",
    "\n",
    "\n",
    "###############\n",
    "with fiona.drivers():\n",
    "    with fiona.open(inpath, 'r') as src:\n",
    "        dest_schema = src.schema.copy()\n",
    "        crs = src.crs\n",
    "        for n, feature in enumerate(src):\n",
    "            county = feature['properties']['COUNTY_NAM']\n",
    "            outfname = \".\".join([county, \"shp\"])\n",
    "            outfpath = os.path.join(outdir, outfname)\n",
    "            with fiona.open(outfpath, 'w', 'ESRI Shapefile', dest_schema, crs=crs) as dest: \n",
    "                dest.write(feature)        "
   ]
  },
  {
   "cell_type": "markdown",
   "metadata": {},
   "source": [
    "## Further work...\n",
    "This notebook will be further updated in the future. Keep checking out time and again. "
   ]
  },
  {
   "cell_type": "code",
   "execution_count": null,
   "metadata": {
    "collapsed": true
   },
   "outputs": [],
   "source": []
  }
 ],
 "metadata": {
  "kernelspec": {
   "display_name": "Python 3",
   "language": "python",
   "name": "python3"
  },
  "language_info": {
   "codemirror_mode": {
    "name": "ipython",
    "version": 3
   },
   "file_extension": ".py",
   "mimetype": "text/x-python",
   "name": "python",
   "nbconvert_exporter": "python",
   "pygments_lexer": "ipython3",
   "version": "3.5.4"
  }
 },
 "nbformat": 4,
 "nbformat_minor": 2
}
